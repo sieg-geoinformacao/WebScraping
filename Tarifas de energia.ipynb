{
 "cells": [
  {
   "cell_type": "markdown",
   "metadata": {},
   "source": [
    "# Bibliotecas"
   ]
  },
  {
   "cell_type": "code",
   "execution_count": 1,
   "metadata": {},
   "outputs": [],
   "source": [
    "from bs4 import BeautifulSoup\n",
    "import ipywidgets as widgets\n",
    "from IPython.display import display, Markdown, clear_output\n",
    "import requests\n",
    "import json\n",
    "import time\n",
    "import pandas as pd\n",
    "import numpy as np"
   ]
  },
  {
   "cell_type": "markdown",
   "metadata": {},
   "source": [
    "# Funções"
   ]
  },
  {
   "cell_type": "code",
   "execution_count": 125,
   "metadata": {},
   "outputs": [],
   "source": [
    "def rasp(site):\n",
    "    site = site\n",
    "    \n",
    "    answer = requests.get(site)\n",
    "    answer = answer.content\n",
    "\n",
    "    soup_ = BeautifulSoup(answer)\n",
    "\n",
    "    list_ = soup_.find_all('a', {'class':'heading'})\n",
    "    \n",
    "    dom_json = []\n",
    "    title_json = []\n",
    "\n",
    "    count = 0\n",
    "\n",
    "    for i in list_:\n",
    "        if count%2 == 1:\n",
    "            dom_json.append(i.get('href'))\n",
    "            title_json.append(i.get('title'))\n",
    "        count += 1\n",
    "\n",
    "    title_json.append('Todas as tabelas')\n",
    "\n",
    "    if selection.value == 'Todas':\n",
    "        pass\n",
    "    else:\n",
    "        option_table = widgets.Dropdown(options = title_json,\n",
    "                                       value = title_json[0],\n",
    "                                       description = 'Dados: ')\n",
    "        display(option_table)\n",
    "    if selection.value == 'Todas':\n",
    "        return title_json, dom_json\n",
    "    else:\n",
    "        return option_table, title_json, dom_json\n",
    "\n",
    "def rasp_table(title, dom, index):\n",
    "    title_json = title\n",
    "    dom_json = dom\n",
    "    new_answer = requests.get('http://dados.gov.br' + str(dom_json[index]))\n",
    "    new_answer = new_answer.content\n",
    "    soup_1 = BeautifulSoup(new_answer)\n",
    "    tab1 = soup_1.find_all('a')\n",
    "    api_url = []\n",
    "    for i in tab1:\n",
    "        if ('aneel' and 'Tarifa') in str(i.get('href')):\n",
    "            api_url.append(i.get('href'))\n",
    "    new_answer1 = requests.get(str(api_url[1]))\n",
    "    data = json.loads(str(new_answer1.text))\n",
    "    df = pd.DataFrame(data)\n",
    "    df.to_excel('D:\\\\Dados dos Usuários\\\\priscila.miyashita\\\\Downloads\\\\' + str(title_json[index]) + '.xlsx', index_label = None, encoding = 'UTF-8')\n",
    "    \n",
    "def if_(selection, title, dom):\n",
    "    try:\n",
    "        if option.value != 'Todas as tabelas':\n",
    "            count = 0\n",
    "            for i in title:\n",
    "                if option.value == i:\n",
    "                    index = count\n",
    "                count += 1\n",
    "            rasp_table(title, dom, index)\n",
    "        else:\n",
    "            w = widgets.IntProgress(value=0,min=1,max=len(dom),step=1,description='Carregando:',bar_style='info', orientation='horizontal')\n",
    "            display(w)\n",
    "            for k in range(len(dom)):\n",
    "                rasp_table(title, dom, k)\n",
    "                w.value = k+1\n",
    "    except:\n",
    "        w = widgets.IntProgress(value=0,min=1,max=len(dom),step=1,description='Carregando:',bar_style='info', orientation='horizontal')\n",
    "        for k in range(len(dom)):\n",
    "            rasp_table(title, dom, k)\n",
    "            w.value = k+1\n",
    "            \n",
    "def limpeza_html(lista, name):\n",
    "    for i in str(lista[0]).split('<'):\n",
    "        if name in i:\n",
    "            return i.split('>')[1]"
   ]
  },
  {
   "cell_type": "markdown",
   "metadata": {},
   "source": [
    "# Raspagem"
   ]
  },
  {
   "cell_type": "code",
   "execution_count": 116,
   "metadata": {},
   "outputs": [
    {
     "data": {
      "application/vnd.jupyter.widget-view+json": {
       "model_id": "374799a3e0b04b6a88dd2249918cd765",
       "version_major": 2,
       "version_minor": 0
      },
      "text/plain": [
       "Dropdown(description='Tarifas de energia: ', options=('Tarifas medias de energia eletrica por classe de consum…"
      ]
     },
     "metadata": {},
     "output_type": "display_data"
    }
   ],
   "source": [
    "site = 'http://dados.gov.br/dataset?tags=Tarifas+de+Energia+El%C3%A9trica'\n",
    "\n",
    "resposta = requests.get(site)\n",
    "resposta = resposta.content\n",
    "\n",
    "soup_ = BeautifulSoup(resposta)\n",
    "tab1 = soup_.find_all('a')\n",
    "title_ = []\n",
    "dom_ = []\n",
    "\n",
    "for i in tab1:\n",
    "    if 'dataset/tarifas' in str(i.get('href')):\n",
    "        dom_.append(i.get('href'))\n",
    "    \n",
    "title_ = []\n",
    "dom_ = np.asarray(dom_)\n",
    "dom_ = np.unique(dom_)\n",
    "\n",
    "for i in dom_:\n",
    "    if 'tarifas' in i:\n",
    "        title_.append((i.replace('/dataset/', '')).replace('-', ' ').capitalize())\n",
    "\n",
    "title_.append('Todas')\n",
    "\n",
    "option = widgets.Dropdown(options = title_, description = 'Tarifas de energia: ')\n",
    "option"
   ]
  },
  {
   "cell_type": "markdown",
   "metadata": {},
   "source": [
    "## Acessando a API e salvando o arquivo"
   ]
  },
  {
   "cell_type": "code",
   "execution_count": 139,
   "metadata": {},
   "outputs": [],
   "source": [
    "if option.value != 'Todas':\n",
    "    count = 0\n",
    "    for i in title_:\n",
    "        if i == option.value:\n",
    "            break\n",
    "    count += 1\n",
    "    site = 'http://dados.gov.br' + str(dom_[count])\n",
    "    if_(option.value, title_, dom_)\n",
    "else:\n",
    "    for i in range(len(title_)-1):\n",
    "        site = 'http://dados.gov.br' + str(dom_[i])\n",
    "        if_(title_[i], title_, dom_)"
   ]
  },
  {
   "cell_type": "code",
   "execution_count": null,
   "metadata": {},
   "outputs": [],
   "source": []
  }
 ],
 "metadata": {
  "kernelspec": {
   "display_name": "Python 3",
   "language": "python",
   "name": "python3"
  },
  "language_info": {
   "codemirror_mode": {
    "name": "ipython",
    "version": 3
   },
   "file_extension": ".py",
   "mimetype": "text/x-python",
   "name": "python",
   "nbconvert_exporter": "python",
   "pygments_lexer": "ipython3",
   "version": "3.7.3"
  }
 },
 "nbformat": 4,
 "nbformat_minor": 2
}
